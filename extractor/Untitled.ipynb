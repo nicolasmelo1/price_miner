{
 "cells": [
  {
   "cell_type": "code",
   "execution_count": 225,
   "metadata": {},
   "outputs": [],
   "source": [
    "import pandas as pd"
   ]
  },
  {
   "cell_type": "code",
   "execution_count": 43,
   "metadata": {},
   "outputs": [],
   "source": [
    "data = pd.read_csv('magalu_data_chinese_phones.csv', sep=';', encoding='latin1')"
   ]
  },
  {
   "cell_type": "code",
   "execution_count": 45,
   "metadata": {},
   "outputs": [],
   "source": [
    "data['price'] = data['price'].str.replace('.', '')"
   ]
  },
  {
   "cell_type": "code",
   "execution_count": 46,
   "metadata": {},
   "outputs": [],
   "source": [
    "data['de_price'] = data['price'].str.replace('de R', '')"
   ]
  },
  {
   "cell_type": "code",
   "execution_count": 47,
   "metadata": {},
   "outputs": [],
   "source": [
    "data['de_price'] = data['de_price'].str.replace('$', '')"
   ]
  },
  {
   "cell_type": "code",
   "execution_count": 48,
   "metadata": {},
   "outputs": [],
   "source": [
    "data['de_price'] = data['de_price'].str.replace(r'por.+', '')"
   ]
  },
  {
   "cell_type": "code",
   "execution_count": 49,
   "metadata": {},
   "outputs": [],
   "source": [
    "data['por_price'] = data['price'].str.replace(r'.+por', '')"
   ]
  },
  {
   "cell_type": "code",
   "execution_count": 50,
   "metadata": {},
   "outputs": [],
   "source": [
    "data['por_price'] = data['por_price'].str.replace(r'ÌÊ.+', '')"
   ]
  },
  {
   "cell_type": "code",
   "execution_count": 51,
   "metadata": {},
   "outputs": [],
   "source": [
    "data['por_price'] = data['por_price'].str.replace(r'em.+', '')"
   ]
  },
  {
   "cell_type": "code",
   "execution_count": 52,
   "metadata": {},
   "outputs": [],
   "source": [
    "data['por_price'] = data['por_price'].str.replace('R', '')"
   ]
  },
  {
   "cell_type": "code",
   "execution_count": 53,
   "metadata": {},
   "outputs": [],
   "source": [
    "data['por_price'] = data['por_price'].str.replace('$', '')"
   ]
  },
  {
   "cell_type": "code",
   "execution_count": 54,
   "metadata": {},
   "outputs": [],
   "source": [
    "data['a_vista'] = data['price'].str.contains('vista')"
   ]
  },
  {
   "cell_type": "code",
   "execution_count": 55,
   "metadata": {},
   "outputs": [],
   "source": [
    "data['desconto_a_vista'] = data['price'].str.replace(r'.+\\(', '')"
   ]
  },
  {
   "cell_type": "code",
   "execution_count": 56,
   "metadata": {},
   "outputs": [],
   "source": [
    "data['desconto_a_vista'] = data['desconto_a_vista'].str.replace(r'\\).+', '')"
   ]
  },
  {
   "cell_type": "code",
   "execution_count": 57,
   "metadata": {},
   "outputs": [
    {
     "name": "stderr",
     "output_type": "stream",
     "text": [
      "/Users/nicolasmelo1/anaconda3/lib/python3.7/site-packages/ipykernel_launcher.py:1: SettingWithCopyWarning: \n",
      "A value is trying to be set on a copy of a slice from a DataFrame\n",
      "\n",
      "See the caveats in the documentation: http://pandas.pydata.org/pandas-docs/stable/indexing.html#indexing-view-versus-copy\n",
      "  \"\"\"Entry point for launching an IPython kernel.\n"
     ]
    }
   ],
   "source": [
    "data['desconto_a_vista'][data['a_vista'] == False] = ''"
   ]
  },
  {
   "cell_type": "code",
   "execution_count": 58,
   "metadata": {},
   "outputs": [],
   "source": [
    "data['num_parcelas'] = data['price'].str.replace(r'.+ em','')"
   ]
  },
  {
   "cell_type": "code",
   "execution_count": 59,
   "metadata": {},
   "outputs": [],
   "source": [
    "data['num_parcelas'] = data['num_parcelas'].str.replace(r'de.+','')"
   ]
  },
  {
   "cell_type": "code",
   "execution_count": 60,
   "metadata": {},
   "outputs": [],
   "source": [
    "data['valor_parcela'] = data['price'].str.replace(r'.+de','')"
   ]
  },
  {
   "cell_type": "code",
   "execution_count": 61,
   "metadata": {},
   "outputs": [],
   "source": [
    "data['valor_parcela'] = data['valor_parcela'].str.replace('R', '')"
   ]
  },
  {
   "cell_type": "code",
   "execution_count": 62,
   "metadata": {},
   "outputs": [],
   "source": [
    "data['valor_parcela'] = data['valor_parcela'].str.replace('$', '')"
   ]
  },
  {
   "cell_type": "code",
   "execution_count": 63,
   "metadata": {},
   "outputs": [],
   "source": [
    "data['valor_parcela'] = data['valor_parcela'].str.replace('sem juros', '')"
   ]
  },
  {
   "cell_type": "code",
   "execution_count": 64,
   "metadata": {},
   "outputs": [],
   "source": [
    "data['format_title'] = data['title'].str.replace('Smartphone', '')"
   ]
  },
  {
   "cell_type": "code",
   "execution_count": 65,
   "metadata": {},
   "outputs": [],
   "source": [
    "data['format_title'] = data['format_title'].str.replace('Desbloqueado', '')"
   ]
  },
  {
   "cell_type": "code",
   "execution_count": 66,
   "metadata": {},
   "outputs": [],
   "source": [
    "data['manufacturer'] = data['format_title'].apply(lambda x: 'Apple' if 'Apple' in x else x.split()[0])"
   ]
  },
  {
   "cell_type": "code",
   "execution_count": 67,
   "metadata": {},
   "outputs": [],
   "source": [
    "data['format_title'] = data.apply(lambda row: row['format_title'].replace(row['manufacturer'], ''), axis=1)"
   ]
  },
  {
   "cell_type": "code",
   "execution_count": 68,
   "metadata": {},
   "outputs": [],
   "source": [
    "data['espaco_armazenamento'] = data['format_title'].str.extract(pat='(\\d+GB)')"
   ]
  },
  {
   "cell_type": "code",
   "execution_count": 69,
   "metadata": {},
   "outputs": [],
   "source": [
    "data['format_title'] = data['format_title'].str.replace('íë¢', 'â')"
   ]
  },
  {
   "cell_type": "code",
   "execution_count": 70,
   "metadata": {},
   "outputs": [],
   "source": [
    "data['format_title'] = data['format_title'].str.replace('\\x8c\\x8aí_\\x8c\\x9d', '\\\"')"
   ]
  },
  {
   "cell_type": "code",
   "execution_count": 71,
   "metadata": {},
   "outputs": [],
   "source": [
    "data['format_title'] = data['format_title'].str.replace('  ', '')"
   ]
  },
  {
   "cell_type": "code",
   "execution_count": 72,
   "metadata": {},
   "outputs": [],
   "source": [
    "data['format_title'] = data['format_title'].str.replace('íëíñ', 'Ô')"
   ]
  },
  {
   "cell_type": "code",
   "execution_count": 73,
   "metadata": {},
   "outputs": [],
   "source": [
    "data['format_title'] = data['format_title'].str.replace('íë\\x8c\\x8d', 'Î')"
   ]
  },
  {
   "cell_type": "code",
   "execution_count": 74,
   "metadata": {},
   "outputs": [],
   "source": [
    "data['format_title'] = data['format_title'].str.replace('- Magazine Luiza', '')"
   ]
  },
  {
   "cell_type": "code",
   "execution_count": 75,
   "metadata": {},
   "outputs": [],
   "source": [
    "data['format_title'] = data['format_title'].str.replace('-- Magazine Luiza', '')"
   ]
  },
  {
   "cell_type": "code",
   "execution_count": 76,
   "metadata": {},
   "outputs": [],
   "source": [
    "data.to_csv('formated_magalu_chinese_phones_data.csv', sep=';', encoding='latin1', index=False)"
   ]
  },
  {
   "cell_type": "code",
   "execution_count": 44,
   "metadata": {},
   "outputs": [
    {
     "data": {
      "text/html": [
       "<div>\n",
       "<style scoped>\n",
       "    .dataframe tbody tr th:only-of-type {\n",
       "        vertical-align: middle;\n",
       "    }\n",
       "\n",
       "    .dataframe tbody tr th {\n",
       "        vertical-align: top;\n",
       "    }\n",
       "\n",
       "    .dataframe thead th {\n",
       "        text-align: right;\n",
       "    }\n",
       "</style>\n",
       "<table border=\"1\" class=\"dataframe\">\n",
       "  <thead>\n",
       "    <tr style=\"text-align: right;\">\n",
       "      <th></th>\n",
       "      <th>price</th>\n",
       "      <th>title</th>\n",
       "    </tr>\n",
       "  </thead>\n",
       "  <tbody>\n",
       "    <tr>\n",
       "      <th>0</th>\n",
       "      <td>de R$ 1.499,00   por R$ 1.299,00      em 10x ...</td>\n",
       "      <td>Smartphone redmi mi a2 4ram 32gb lte dual glob...</td>\n",
       "    </tr>\n",
       "    <tr>\n",
       "      <th>1</th>\n",
       "      <td>de R$ 1.499,90   por R$ 1.249,90      em 10x ...</td>\n",
       "      <td>Celular SmartPhone Redmi Note 6 Pro 64gb Origi...</td>\n",
       "    </tr>\n",
       "    <tr>\n",
       "      <th>2</th>\n",
       "      <td>de R$ 1.499,90   por R$ 1.199,90      em 10x ...</td>\n",
       "      <td>Smartphone xiaomi redmi mi a2 32gb dual 4g lte...</td>\n",
       "    </tr>\n",
       "    <tr>\n",
       "      <th>3</th>\n",
       "      <td>de R$ 899,90   por R$ 799,90      em 10x de R...</td>\n",
       "      <td>Smartphone xiaomi redmi 6a 32gb dual 4g lte pr...</td>\n",
       "    </tr>\n",
       "    <tr>\n",
       "      <th>4</th>\n",
       "      <td>de R$ 899,90   por R$ 799,90      em 10x de R...</td>\n",
       "      <td>Smartphone xiaomi redmi 6a 32gb dual 4g lte do...</td>\n",
       "    </tr>\n",
       "    <tr>\n",
       "      <th>5</th>\n",
       "      <td>de R$ 899,90   por R$ 699,90      em 10x de R...</td>\n",
       "      <td>Smartphone xiaomi redmi 6a 16gb dual 4g lte do...</td>\n",
       "    </tr>\n",
       "    <tr>\n",
       "      <th>6</th>\n",
       "      <td>de R$ 899,90   por R$ 699,90      em 10x de R...</td>\n",
       "      <td>Smartphone xiaomi redmi 6a 16gb dual 4g lte pr...</td>\n",
       "    </tr>\n",
       "    <tr>\n",
       "      <th>7</th>\n",
       "      <td>por R$ 749,00      em 10x de R$ 74,90 sem j...</td>\n",
       "      <td>Smartphone Xiaomi Redmi 6 preto, Tela 5,45Û,...</td>\n",
       "    </tr>\n",
       "    <tr>\n",
       "      <th>8</th>\n",
       "      <td>de R$ 1.299,90   por R$ 1.049,90      em 10x ...</td>\n",
       "      <td>Smartphone redmi 7 64gb snapdragon 632 2gb 12m...</td>\n",
       "    </tr>\n",
       "    <tr>\n",
       "      <th>9</th>\n",
       "      <td>de R$ 1.499,90   por R$ 1.399,90      em 10x ...</td>\n",
       "      <td>Smartphone celular redmi mi 8 lite 64gb dual 4...</td>\n",
       "    </tr>\n",
       "    <tr>\n",
       "      <th>10</th>\n",
       "      <td>de R$ 1.699,90   por R$ 1.499,90      em 10x ...</td>\n",
       "      <td>Smartphone celular redmi mi 8 light 64gb dual ...</td>\n",
       "    </tr>\n",
       "    <tr>\n",
       "      <th>11</th>\n",
       "      <td>por R$ 1.049,00      em 10x de R$ 104,90 se...</td>\n",
       "      <td>Smartphone redmi mi play 4ram 64gb tela 5.84Û...</td>\n",
       "    </tr>\n",
       "    <tr>\n",
       "      <th>12</th>\n",
       "      <td>de R$ 1.299,00   por R$ 1.199,00      em 10x ...</td>\n",
       "      <td>Smartphone redmi mi a2 lite 4ram 64gb tela 5.8...</td>\n",
       "    </tr>\n",
       "    <tr>\n",
       "      <th>13</th>\n",
       "      <td>de R$ 1.699,00   por R$ 1.099,00      em 10x ...</td>\n",
       "      <td>Smartphone redmi mi a2 4ram 64gb lte dual glob...</td>\n",
       "    </tr>\n",
       "    <tr>\n",
       "      <th>14</th>\n",
       "      <td>de R$ 2.399,00   por R$ 2.299,00      em 10x ...</td>\n",
       "      <td>Smartphone redmi pocophone f1 6ram 128gb lte d...</td>\n",
       "    </tr>\n",
       "    <tr>\n",
       "      <th>15</th>\n",
       "      <td>por R$ 2.599,90      em 10x de R$ 259,99 se...</td>\n",
       "      <td>Smartphone redmi pocophone f1 128gb dual 4g lt...</td>\n",
       "    </tr>\n",
       "    <tr>\n",
       "      <th>16</th>\n",
       "      <td>por R$ 2.199,90      em 10x de R$ 219,99 se...</td>\n",
       "      <td>Smartphone celular redmi pocophone f1 64gb dua...</td>\n",
       "    </tr>\n",
       "    <tr>\n",
       "      <th>17</th>\n",
       "      <td>por R$ 2.599,00      em 10x de R$ 259,90 se...</td>\n",
       "      <td>Smartphone celular redmi pocophone f1 128gb du...</td>\n",
       "    </tr>\n",
       "    <tr>\n",
       "      <th>18</th>\n",
       "      <td>por R$ 3.699,90      em 10x de R$ 369,99 se...</td>\n",
       "      <td>Smartphone celular redmi mi 8 pro 128gb transp...</td>\n",
       "    </tr>\n",
       "    <tr>\n",
       "      <th>19</th>\n",
       "      <td>de R$ 1.899,90   por R$ 1.499,90      em 10x ...</td>\n",
       "      <td>Smartphone redmi mi max 3 64gb dual 4g lte pre...</td>\n",
       "    </tr>\n",
       "  </tbody>\n",
       "</table>\n",
       "</div>"
      ],
      "text/plain": [
       "                                                price  \\\n",
       "0    de R$ 1.499,00   por R$ 1.299,00      em 10x ...   \n",
       "1    de R$ 1.499,90   por R$ 1.249,90      em 10x ...   \n",
       "2    de R$ 1.499,90   por R$ 1.199,90      em 10x ...   \n",
       "3    de R$ 899,90   por R$ 799,90      em 10x de R...   \n",
       "4    de R$ 899,90   por R$ 799,90      em 10x de R...   \n",
       "5    de R$ 899,90   por R$ 699,90      em 10x de R...   \n",
       "6    de R$ 899,90   por R$ 699,90      em 10x de R...   \n",
       "7      por R$ 749,00      em 10x de R$ 74,90 sem j...   \n",
       "8    de R$ 1.299,90   por R$ 1.049,90      em 10x ...   \n",
       "9    de R$ 1.499,90   por R$ 1.399,90      em 10x ...   \n",
       "10   de R$ 1.699,90   por R$ 1.499,90      em 10x ...   \n",
       "11     por R$ 1.049,00      em 10x de R$ 104,90 se...   \n",
       "12   de R$ 1.299,00   por R$ 1.199,00      em 10x ...   \n",
       "13   de R$ 1.699,00   por R$ 1.099,00      em 10x ...   \n",
       "14   de R$ 2.399,00   por R$ 2.299,00      em 10x ...   \n",
       "15     por R$ 2.599,90      em 10x de R$ 259,99 se...   \n",
       "16     por R$ 2.199,90      em 10x de R$ 219,99 se...   \n",
       "17     por R$ 2.599,00      em 10x de R$ 259,90 se...   \n",
       "18     por R$ 3.699,90      em 10x de R$ 369,99 se...   \n",
       "19   de R$ 1.899,90   por R$ 1.499,90      em 10x ...   \n",
       "\n",
       "                                                title  \n",
       "0   Smartphone redmi mi a2 4ram 32gb lte dual glob...  \n",
       "1   Celular SmartPhone Redmi Note 6 Pro 64gb Origi...  \n",
       "2   Smartphone xiaomi redmi mi a2 32gb dual 4g lte...  \n",
       "3   Smartphone xiaomi redmi 6a 32gb dual 4g lte pr...  \n",
       "4   Smartphone xiaomi redmi 6a 32gb dual 4g lte do...  \n",
       "5   Smartphone xiaomi redmi 6a 16gb dual 4g lte do...  \n",
       "6   Smartphone xiaomi redmi 6a 16gb dual 4g lte pr...  \n",
       "7   Smartphone Xiaomi Redmi 6 preto, Tela 5,45Û,...  \n",
       "8   Smartphone redmi 7 64gb snapdragon 632 2gb 12m...  \n",
       "9   Smartphone celular redmi mi 8 lite 64gb dual 4...  \n",
       "10  Smartphone celular redmi mi 8 light 64gb dual ...  \n",
       "11  Smartphone redmi mi play 4ram 64gb tela 5.84Û...  \n",
       "12  Smartphone redmi mi a2 lite 4ram 64gb tela 5.8...  \n",
       "13  Smartphone redmi mi a2 4ram 64gb lte dual glob...  \n",
       "14  Smartphone redmi pocophone f1 6ram 128gb lte d...  \n",
       "15  Smartphone redmi pocophone f1 128gb dual 4g lt...  \n",
       "16  Smartphone celular redmi pocophone f1 64gb dua...  \n",
       "17  Smartphone celular redmi pocophone f1 128gb du...  \n",
       "18  Smartphone celular redmi mi 8 pro 128gb transp...  \n",
       "19  Smartphone redmi mi max 3 64gb dual 4g lte pre...  "
      ]
     },
     "execution_count": 44,
     "metadata": {},
     "output_type": "execute_result"
    }
   ],
   "source": []
  },
  {
   "cell_type": "code",
   "execution_count": 428,
   "metadata": {},
   "outputs": [],
   "source": [
    "data = pd.read_csv('formated_americanas_data_1.csv', sep=';', encoding='latin1')"
   ]
  },
  {
   "cell_type": "code",
   "execution_count": 429,
   "metadata": {},
   "outputs": [],
   "source": [
    "data['price'] = data['price'].str.replace('.','')"
   ]
  },
  {
   "cell_type": "code",
   "execution_count": 430,
   "metadata": {},
   "outputs": [],
   "source": [
    "data['price_parcela'] = data['price_parcela'].str.replace('.','')"
   ]
  },
  {
   "cell_type": "code",
   "execution_count": 431,
   "metadata": {},
   "outputs": [],
   "source": [
    "data['a_vista_price'] = data['price'].str.extract(pat='(\\d+,\\d+)')"
   ]
  },
  {
   "cell_type": "code",
   "execution_count": 432,
   "metadata": {},
   "outputs": [],
   "source": [
    "data['a_vista_price'] = data['a_vista_price'].apply(lambda x: x.split(',')[0] + ',' + x.split(',')[1][:2] if len(x.split(',')[1]) > 2 else x)"
   ]
  },
  {
   "cell_type": "code",
   "execution_count": 433,
   "metadata": {},
   "outputs": [],
   "source": [
    "data['desconto_a_vista'] = data['price'].str.contains('de desconto')"
   ]
  },
  {
   "cell_type": "code",
   "execution_count": 434,
   "metadata": {},
   "outputs": [],
   "source": [
    "data['porcentagem_desconto_a_vista'] = data['price'].str.extract(pat='(\\d+% de desconto)')"
   ]
  },
  {
   "cell_type": "code",
   "execution_count": 435,
   "metadata": {},
   "outputs": [],
   "source": [
    "data['porcentagem_desconto_a_vista'] = data['porcentagem_desconto_a_vista'].str.replace('% de desconto', '')"
   ]
  },
  {
   "cell_type": "code",
   "execution_count": 436,
   "metadata": {},
   "outputs": [],
   "source": [
    "data['porcentagem_desconto_a_vista'] = data['porcentagem_desconto_a_vista'].fillna(0)"
   ]
  },
  {
   "cell_type": "code",
   "execution_count": 437,
   "metadata": {},
   "outputs": [],
   "source": [
    "data['qtd_de_parcelas'] = data['price'].str.extract(pat='(\\d\\dx)')"
   ]
  },
  {
   "cell_type": "code",
   "execution_count": 438,
   "metadata": {},
   "outputs": [],
   "source": [
    "data['qtd_de_parcelas'] = data['qtd_de_parcelas'].fillna(0)"
   ]
  },
  {
   "cell_type": "code",
   "execution_count": 439,
   "metadata": {},
   "outputs": [],
   "source": [
    "data['valor_parcelas'] = data['price'].str.extract(pat='(\\d+x.*)')"
   ]
  },
  {
   "cell_type": "code",
   "execution_count": 440,
   "metadata": {},
   "outputs": [],
   "source": [
    "data['valor_parcelas'] = data['valor_parcelas'].str.extract(pat='(\\d+,\\d+)')"
   ]
  },
  {
   "cell_type": "code",
   "execution_count": 441,
   "metadata": {},
   "outputs": [],
   "source": [
    "data['valor_parcelas'] = data['valor_parcelas'].fillna(0)"
   ]
  },
  {
   "cell_type": "code",
   "execution_count": 442,
   "metadata": {},
   "outputs": [],
   "source": [
    "data['a_vista_ame'] = data['price_parcela'].str.extract(pat='(.*com Ame)')"
   ]
  },
  {
   "cell_type": "code",
   "execution_count": 443,
   "metadata": {},
   "outputs": [],
   "source": [
    "data['a_vista_ame'] = data['a_vista_ame'].str.extract(pat='(\\d+,\\d+)')"
   ]
  },
  {
   "cell_type": "code",
   "execution_count": 444,
   "metadata": {},
   "outputs": [],
   "source": [
    "data['qtd_de_parcelas_ame'] = data['price_parcela'].str.extract(pat='(.*com Ame)')"
   ]
  },
  {
   "cell_type": "code",
   "execution_count": 445,
   "metadata": {},
   "outputs": [],
   "source": [
    "data['qtd_de_parcelas_ame'] = data['qtd_de_parcelas_ame'].str.extract(pat='(\\d\\dx)')"
   ]
  },
  {
   "cell_type": "code",
   "execution_count": 446,
   "metadata": {},
   "outputs": [],
   "source": [
    "data['valor_parcelas_ame'] = data['price_parcela'].str.extract(pat='(.*com Ame)')"
   ]
  },
  {
   "cell_type": "code",
   "execution_count": 447,
   "metadata": {},
   "outputs": [],
   "source": [
    "data['valor_parcelas_ame'] = data['valor_parcelas_ame'].str.extract(pat='(x.*)')"
   ]
  },
  {
   "cell_type": "code",
   "execution_count": 448,
   "metadata": {},
   "outputs": [],
   "source": [
    "data['valor_parcelas_ame'] = data['valor_parcelas_ame'].str.extract(pat='(\\d+,\\d+)')"
   ]
  },
  {
   "cell_type": "code",
   "execution_count": 449,
   "metadata": {},
   "outputs": [],
   "source": [
    "data['receber_de_volta_ame'] = data['price_parcela'].str.extract(pat='(.*de volta)')"
   ]
  },
  {
   "cell_type": "code",
   "execution_count": 450,
   "metadata": {},
   "outputs": [],
   "source": [
    "data['receber_de_volta_ame'] = data['receber_de_volta_ame'].str.extract(pat='(com Ame.*)')"
   ]
  },
  {
   "cell_type": "code",
   "execution_count": 451,
   "metadata": {},
   "outputs": [],
   "source": [
    "data['receber_de_volta_ame'] = data['receber_de_volta_ame'].str.extract(pat='(\\d+,\\d+)')"
   ]
  },
  {
   "cell_type": "code",
   "execution_count": 470,
   "metadata": {},
   "outputs": [],
   "source": [
    "data['em_1x_no_cartao_de_credito'] = data['price_parcela'].str.extract(pat='(de volta.*)')"
   ]
  },
  {
   "cell_type": "code",
   "execution_count": 471,
   "metadata": {},
   "outputs": [],
   "source": [
    "data['em_1x_no_cartao_de_credito'] = data['em_1x_no_cartao_de_credito'].str.extract(pat=r'(.*cartÍ£o de crÍ©dito)')"
   ]
  },
  {
   "cell_type": "code",
   "execution_count": 472,
   "metadata": {},
   "outputs": [],
   "source": [
    "data['em_1x_no_cartao_de_credito'] = data['em_1x_no_cartao_de_credito'].str.extract(pat='(\\d+,\\d+)')"
   ]
  },
  {
   "cell_type": "code",
   "execution_count": 473,
   "metadata": {},
   "outputs": [],
   "source": [
    "data['em_1x_no_cartao_de_credito'] = data['em_1x_no_cartao_de_credito'].fillna(0)"
   ]
  },
  {
   "cell_type": "code",
   "execution_count": 474,
   "metadata": {},
   "outputs": [],
   "source": [
    "data['no_boleto'] = data['price_parcela'].str.extract(pat='(de volta.*)')"
   ]
  },
  {
   "cell_type": "code",
   "execution_count": 475,
   "metadata": {},
   "outputs": [],
   "source": [
    "data['no_boleto'] = data['no_boleto'].str.extract(pat='(.*no boleto)')"
   ]
  },
  {
   "cell_type": "code",
   "execution_count": 476,
   "metadata": {},
   "outputs": [],
   "source": [
    "data['no_boleto'] = data['no_boleto'].str.extract(pat='(\\d+,\\d+)')"
   ]
  },
  {
   "cell_type": "code",
   "execution_count": 477,
   "metadata": {},
   "outputs": [],
   "source": [
    "data['no_boleto'] = data['no_boleto'].fillna(0)"
   ]
  },
  {
   "cell_type": "code",
   "execution_count": 489,
   "metadata": {},
   "outputs": [],
   "source": [
    "data['numero_parcelas_em_1x_no_cartao_ou_cartao_americanas'] = data['price_parcela'].str.extract(pat=r'(no cartÍ£o Americanas.*)')"
   ]
  },
  {
   "cell_type": "code",
   "execution_count": 490,
   "metadata": {},
   "outputs": [],
   "source": [
    "data['numero_parcelas_em_1x_no_cartao_ou_cartao_americanas'] = data['numero_parcelas_em_1x_no_cartao_ou_cartao_americanas'].str.extract(pat='(\\d+x)')"
   ]
  },
  {
   "cell_type": "code",
   "execution_count": 491,
   "metadata": {},
   "outputs": [],
   "source": [
    "data['valor_parcelas_em_1x_no_cartao_ou_cartao_americanas'] = data['price_parcela'].str.extract(pat='(no cartÍ£o.*)')"
   ]
  },
  {
   "cell_type": "code",
   "execution_count": 492,
   "metadata": {},
   "outputs": [],
   "source": [
    "data['valor_parcelas_em_1x_no_cartao_ou_cartao_americanas'] = data['valor_parcelas_em_1x_no_cartao_ou_cartao_americanas'] = data['valor_parcelas_em_1x_no_cartao_ou_cartao_americanas'].str.extract(pat='(x de.*)')"
   ]
  },
  {
   "cell_type": "code",
   "execution_count": 493,
   "metadata": {},
   "outputs": [],
   "source": [
    "data['valor_parcelas_em_1x_no_cartao_ou_cartao_americanas'] = data['valor_parcelas_em_1x_no_cartao_ou_cartao_americanas'] = data['valor_parcelas_em_1x_no_cartao_ou_cartao_americanas'].str.extract(pat='(\\d+,\\d+)')"
   ]
  },
  {
   "cell_type": "code",
   "execution_count": 494,
   "metadata": {},
   "outputs": [],
   "source": [
    "data.to_csv('formated_americanas_data_1.csv', sep=';', encoding='latin1', index=False)"
   ]
  },
  {
   "cell_type": "code",
   "execution_count": 487,
   "metadata": {},
   "outputs": [
    {
     "data": {
      "text/plain": [
       "'R$ 2098,99 em atÍ© 12x de R$ 174,91 s/ juros com Ame e receba R$ 104,95 (5% de volta) R$ 1889,09 em 1x no cartÍ£o de crÍ©dito (10% de desconto)R$ 1889,09 no cartÍ£o Americanascom em atÍ© 12x de R$ 157,42 s/ juros (10% de desconto)formas de parcelamento'"
      ]
     },
     "execution_count": 487,
     "metadata": {},
     "output_type": "execute_result"
    }
   ],
   "source": [
    "data['price_parcela'][0]"
   ]
  },
  {
   "cell_type": "code",
   "execution_count": null,
   "metadata": {},
   "outputs": [],
   "source": []
  }
 ],
 "metadata": {
  "kernelspec": {
   "display_name": "Python 3",
   "language": "python",
   "name": "python3"
  },
  "language_info": {
   "codemirror_mode": {
    "name": "ipython",
    "version": 3
   },
   "file_extension": ".py",
   "mimetype": "text/x-python",
   "name": "python",
   "nbconvert_exporter": "python",
   "pygments_lexer": "ipython3",
   "version": "3.7.0"
  }
 },
 "nbformat": 4,
 "nbformat_minor": 2
}
